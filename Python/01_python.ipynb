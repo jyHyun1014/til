{
 "cells": [
  {
   "cell_type": "markdown",
   "id": "13d8cd84-3030-4f5a-a2e0-a40088803b48",
   "metadata": {
    "tags": []
   },
   "source": [
    "# Python 프로그래밍"
   ]
  },
  {
   "cell_type": "markdown",
   "id": "0c5c82d3-f67a-49e9-a6bc-ca11c02d7fe5",
   "metadata": {},
   "source": [
    "## 리스트"
   ]
  },
  {
   "cell_type": "markdown",
   "id": "0e378fce-1ca5-4dde-a08b-3d5b26ef7cda",
   "metadata": {},
   "source": [
    "#### 리스트에서 값 삭제"
   ]
  },
  {
   "cell_type": "code",
   "execution_count": 1,
   "id": "4c3774ae-16ec-4ab3-9dab-9ab0d73b3f65",
   "metadata": {
    "tags": []
   },
   "outputs": [
    {
     "name": "stdout",
     "output_type": "stream",
     "text": [
      "[23, 3, 45, 11, 45]\n",
      "[23, 3, 11, 45]\n"
     ]
    }
   ],
   "source": [
    "a = [23, 3, 16, 45, 11, 45]\n",
    "\n",
    "# 인덱스로 삭제\n",
    "del a[2]\n",
    "print(a)\n",
    "\n",
    "# 값으로 삭제\n",
    "a.remove(45) # 중복된 값은 맨 앞에 값만 삭제됨\n",
    "print(a)"
   ]
  },
  {
   "cell_type": "markdown",
   "id": "4afe9247-4833-4977-a26f-c257166c70d2",
   "metadata": {},
   "source": [
    "#### 리스트에 값 추가"
   ]
  },
  {
   "cell_type": "code",
   "execution_count": 2,
   "id": "cc867985-4f95-49e5-97f2-e05f82f4e7a6",
   "metadata": {
    "tags": []
   },
   "outputs": [
    {
     "name": "stdout",
     "output_type": "stream",
     "text": [
      "[23, 3, 10, 16, 45, 11]\n"
     ]
    }
   ],
   "source": [
    "a = [23, 3, 16, 45, 11]\n",
    "\n",
    "# 리스트.insert(인덱스, 값): 특정 인덱스 위치에 값 추가(뒤에 값들은 밀림)\n",
    "a.insert(2, 10)\n",
    "print(a)"
   ]
  },
  {
   "cell_type": "markdown",
   "id": "0c91cb2c-7696-4a02-b0e8-a2fa8090e079",
   "metadata": {},
   "source": [
    "## 딕셔너리"
   ]
  },
  {
   "cell_type": "markdown",
   "id": "c6d40cec-2589-448d-878b-366dd57b8bde",
   "metadata": {},
   "source": [
    "#### 딕셔너리 생성"
   ]
  },
  {
   "cell_type": "code",
   "execution_count": 3,
   "id": "aad292b7-32e7-48ea-90cd-1664d63eee30",
   "metadata": {
    "tags": []
   },
   "outputs": [
    {
     "name": "stdout",
     "output_type": "stream",
     "text": [
      "{'v1': 32, 'l1': [1, 2, 3], 'd1': {'a': 1, 'b': 2}}\n"
     ]
    }
   ],
   "source": [
    "dict_a = { 'v1' : 32,\n",
    "           'l1' : [1, 2, 3],\n",
    "           'd1' : {'a' : 1, 'b' : 2} }\n",
    "print(dict_a)"
   ]
  },
  {
   "cell_type": "markdown",
   "id": "ae6fd77b-8e82-4bbc-af1b-3f28f971a512",
   "metadata": {},
   "source": [
    "#### 딕셔너리 정보 조회\n",
    "- `.keys()` : 딕셔너리의 key 만 조회\n",
    "- `.values()` : 딕셔너리의 값 만 조회\n",
    "- `.items()` : key와 값을 쌍(tuple)으로 조회"
   ]
  },
  {
   "cell_type": "code",
   "execution_count": 4,
   "id": "f24c5fc5-c26f-429c-b626-31e3192077c6",
   "metadata": {
    "tags": []
   },
   "outputs": [
    {
     "name": "stdout",
     "output_type": "stream",
     "text": [
      "dict_keys(['v1', 'l1', 'd1'])\n",
      "dict_values([32, [1, 2, 3], {'a': 1, 'b': 2}])\n",
      "dict_items([('v1', 32), ('l1', [1, 2, 3]), ('d1', {'a': 1, 'b': 2})])\n"
     ]
    }
   ],
   "source": [
    "print(dict_a.keys())\n",
    "print(dict_a.values())\n",
    "print(dict_a.items())"
   ]
  },
  {
   "cell_type": "code",
   "execution_count": 5,
   "id": "64f962ef-af09-439e-8b00-a906331617f2",
   "metadata": {
    "tags": []
   },
   "outputs": [
    {
     "name": "stdout",
     "output_type": "stream",
     "text": [
      "['v1', 'l1', 'd1']\n",
      "[32, [1, 2, 3], {'a': 1, 'b': 2}]\n",
      "[('v1', 32), ('l1', [1, 2, 3]), ('d1', {'a': 1, 'b': 2})]\n"
     ]
    }
   ],
   "source": [
    "print(list(dict_a.keys()))\n",
    "print(list(dict_a.values()))\n",
    "print(list(dict_a.items()))"
   ]
  },
  {
   "cell_type": "markdown",
   "id": "cd85a9d0-63ad-4f7e-a31a-c6b9d877fdca",
   "metadata": {},
   "source": [
    "#### 딕셔너리 조회"
   ]
  },
  {
   "cell_type": "code",
   "execution_count": null,
   "id": "aa013daf-d7eb-4c8c-b2a0-9ba2f6ee2a89",
   "metadata": {},
   "outputs": [],
   "source": [
    "# 무조건 key로 조회. 인덱스로 조회 불가능\n",
    "print(dict_a['v1'])\n",
    "print(dict_a['l1'][:2])\n",
    "print(dict_a['d1']['a'])"
   ]
  },
  {
   "cell_type": "markdown",
   "id": "8626a7c3-5484-4d3c-a901-b64bfea5c43f",
   "metadata": {},
   "source": [
    "#### 딕셔너리 추가, 수정, 삭제"
   ]
  },
  {
   "cell_type": "code",
   "execution_count": 6,
   "id": "fc5022d6-e937-43bf-b4d5-9c38ddfbbd38",
   "metadata": {
    "tags": []
   },
   "outputs": [
    {
     "name": "stdout",
     "output_type": "stream",
     "text": [
      "{'v1': 32, 'l1': [1, 2, 3], 'd1': {'a': 1, 'b': 2}, 'v2': 500}\n",
      "{'v1': 32, 'l1': [1, 2, 3], 'd1': {'a': 1, 'b': 2}}\n"
     ]
    }
   ],
   "source": [
    "# 추가, 수정 방법은 같음\n",
    "dict_a['v2'] = 500\n",
    "print(dict_a)\n",
    "\n",
    "# 삭제\n",
    "del dict_a['v2']\n",
    "print(dict_a)"
   ]
  },
  {
   "cell_type": "markdown",
   "id": "7d0fa1f2-d6d1-4784-8727-fa5f6612d433",
   "metadata": {},
   "source": [
    "#### 딕셔너리와 for 반복문"
   ]
  },
  {
   "cell_type": "code",
   "execution_count": 7,
   "id": "4c2b81c5-efb6-48fc-813b-7852872d8b81",
   "metadata": {
    "tags": []
   },
   "outputs": [
    {
     "name": "stdout",
     "output_type": "stream",
     "text": [
      "key : v1\n",
      "value :  32\n",
      "key : l1\n",
      "value :  [1, 2, 3]\n",
      "key : d1\n",
      "value :  {'a': 1, 'b': 2}\n"
     ]
    }
   ],
   "source": [
    "for key, value in dict_a.items():\n",
    "    print('key :', key)\n",
    "    print('value : ', value)"
   ]
  },
  {
   "cell_type": "markdown",
   "id": "e3111048-cd03-42bc-b2fe-d5331ddb0ebb",
   "metadata": {},
   "source": [
    "## 함수"
   ]
  },
  {
   "cell_type": "markdown",
   "id": "896a7b90-9553-4c6c-84ec-80f23d21eea0",
   "metadata": {},
   "source": [
    "#### *입력매개변수\n",
    "- 입력값의 갯수를 제한하지 않고 받고자 할 때 사용\n",
    "- 입력된 데이터 타입은 tuple"
   ]
  },
  {
   "cell_type": "code",
   "execution_count": 8,
   "id": "2e3f3ad8-dd2a-463a-aa52-b19b3a66422b",
   "metadata": {
    "tags": []
   },
   "outputs": [
    {
     "name": "stdout",
     "output_type": "stream",
     "text": [
      "(1, 2, 3) <class 'tuple'>\n"
     ]
    }
   ],
   "source": [
    "def numbers(*nums):\n",
    "    print(nums, type(nums))\n",
    "    \n",
    "numbers(1, 2, 3)"
   ]
  },
  {
   "cell_type": "markdown",
   "id": "41f02e1e-2eee-4581-97bd-27e4000431fb",
   "metadata": {},
   "source": [
    "## 예외처리 try, except"
   ]
  },
  {
   "cell_type": "markdown",
   "id": "f1da2cb4-2065-45ae-9b7d-1ad638d40a05",
   "metadata": {},
   "source": [
    "```\n",
    "try:\n",
    "    # 오류를 감지하고자 하는 코드블럭\n",
    "except 오류유형:\n",
    "    # 발생된 오류를 처리\n",
    "```"
   ]
  },
  {
   "cell_type": "code",
   "execution_count": 9,
   "id": "ea37e616-d719-41f9-acf5-cb3a96c3046e",
   "metadata": {
    "tags": []
   },
   "outputs": [
    {
     "name": "stdout",
     "output_type": "stream",
     "text": [
      "0으로 나눌수 없습니다.\n"
     ]
    }
   ],
   "source": [
    "def divide(a, b) :\n",
    "    try :\n",
    "        result = a / b\n",
    "        return result\n",
    "    \n",
    "    except ZeroDivisionError:\n",
    "        print(\"0으로 나눌수 없습니다.\")\n",
    "        \n",
    "divide(10, 0)"
   ]
  },
  {
   "cell_type": "code",
   "execution_count": 10,
   "id": "df40f806-486b-4028-8e06-b555dba8040e",
   "metadata": {
    "tags": []
   },
   "outputs": [
    {
     "name": "stdout",
     "output_type": "stream",
     "text": [
      "오류가 발생했습니다.: division by zero\n"
     ]
    }
   ],
   "source": [
    "def divide(a, b) :\n",
    "    try :\n",
    "        result = a / b\n",
    "        return result\n",
    "    # 모든 오류 처리\n",
    "    except Exception as e:\n",
    "        print(\"오류가 발생했습니다.:\", e)\n",
    "        \n",
    "divide(10, 0)"
   ]
  },
  {
   "cell_type": "markdown",
   "id": "b1d13ec0-49aa-4c3a-9272-d5c68895b976",
   "metadata": {},
   "source": [
    "## 클래스 Class\n",
    "- 변수, 함수를 묶어서 코드 작성해서 실행하는 문법 -> 코드 효율성 향상\n",
    "- 객체지향 구현: 실제세계를 모델링하여 프로그램을 개발하는 개발 방법론 -> 협업향상\n",
    "- 클래스는 사용자정의 데이터타입이다.\n",
    "- 클래스 식별자 컨벤션 : snake_case(x), PascalCase(O), UpperCamelCase(O) : PEP8\n",
    "\n",
    ">\n",
    "- 사용법\n",
    "    - 클래스선언(코드작성) > 객체생성(메모리사용) > 메서드호출(코드실행)\n",
    "    - 클래스선언(설계도 작성) > 객체생성(제품생산) > 메서드호출(제품사용)\n",
    "> \n",
    "- 객체 = object\n",
    "- 클래스 안에서 선언된 함수 : 메서드\n",
    "- 클래스 밖에서 선언된 함수 : 함수\n",
    "- `self` : 객체 자신을 의미\n",
    "- `__init__()` : 생성자(constructor) 메서드. 객체가 생성될 때 자동으로 호출되는 메서드\n",
    "- 메서드 앞뒤로 `__` 있는 함수 : 스페셜 메서드. 특별한 기능을 하는 메서드"
   ]
  },
  {
   "cell_type": "markdown",
   "id": "0522eb18-6e84-4327-9208-8688c5fd56c5",
   "metadata": {},
   "source": [
    "메서드 종류\n",
    "- 인스턴스 메서드\n",
    "    - self 인자를 받음\n",
    "    - 인스턴스 변수에 엑세스할 수 있도록 첫 번째 인자에 항상 객체 자신을 의미하는 self파라미터를 받음(self이외에도 여러개의 파라미터를 가질 수 있음)\n",
    "    - 해당 메서드를 호출한 객체에만 영향을 미침\n",
    "    - 객체 속성에 접근이 가능\n",
    "    - 95%이상이 인스턴스 메서드로 가장 흔히 쓰임\n",
    "    - 호출 방법: 해당 클래스 안에서는 `self.메서드명`, 클래스 밖에서는 `객체.메서드명`\n",
    "- 정적(static) 메서드\n",
    "    - 객체와 독립적이지만, 로직상 클래스 내에 포함되는 메서드\n",
    "    - 인스턴스 상태를 변화시키지 않는 메서드를 만들 때 사용\n",
    "    - 아무것도 인자를 받지 않음\n",
    "    - @staticmethod 데코레이터를 사용\n",
    "    - 호출 방법: `클래스명.정적메서드명`\n",
    "- 클래스 메서드\n",
    "    - cls 인자를 받음\n",
    "    - 해당 클래스로 생성된 객체로 부터 호출 되는 것이 아니라, 클래스 자체에서 직접 호출됨\n",
    "    - 클래스 변수 컨트롤할 때 사용\n",
    "    - @classmethod 데코레이터를 사용\n",
    "    - 호출 방법: `클래스명.클래스메서드명` 또는 `객체명.클래스메서드명`\n",
    "    \n",
    "https://journeytosth.tistory.com/73"
   ]
  },
  {
   "cell_type": "markdown",
   "id": "dd89f543-0804-4e15-9246-73f3e8856a9b",
   "metadata": {},
   "source": [
    "### 예시"
   ]
  },
  {
   "cell_type": "code",
   "execution_count": 2,
   "id": "88382779-d1db-4f7f-980d-d9010a4cfb17",
   "metadata": {
    "tags": []
   },
   "outputs": [],
   "source": [
    "# 클래스선언\n",
    "class Order:\n",
    "    \n",
    "    amount = 0\n",
    "    \n",
    "    def new_order(self, price):\n",
    "        self.amount += price\n",
    "        \n",
    "    def cancel_order(self, price):\n",
    "        self.amount -= price"
   ]
  },
  {
   "cell_type": "code",
   "execution_count": 15,
   "id": "fdf8f89b-1734-4802-99b7-ad9830c39323",
   "metadata": {
    "tags": []
   },
   "outputs": [],
   "source": [
    "# 객체 생성 (메모리 사용)\n",
    "customer1 = Order()\n",
    "customer2 = Order()"
   ]
  },
  {
   "cell_type": "markdown",
   "id": "7da1d4db-44b5-443e-91ce-4890af587205",
   "metadata": {},
   "source": [
    "- `dir()` : 객체의 변수, 함수 출력"
   ]
  },
  {
   "cell_type": "code",
   "execution_count": 11,
   "id": "83ee18ef-9fc9-4265-ab53-74e39611f920",
   "metadata": {
    "tags": []
   },
   "outputs": [
    {
     "data": {
      "text/plain": [
       "['amount', 'cancel_order', 'new_order']"
      ]
     },
     "execution_count": 11,
     "metadata": {},
     "output_type": "execute_result"
    }
   ],
   "source": [
    "# dir(customer1)\n",
    "dir(customer1)[-3:]"
   ]
  },
  {
   "cell_type": "code",
   "execution_count": 16,
   "id": "582cb5bc-3bee-4717-955d-c01018a03586",
   "metadata": {
    "tags": []
   },
   "outputs": [
    {
     "data": {
      "text/plain": [
       "(0, 0)"
      ]
     },
     "execution_count": 16,
     "metadata": {},
     "output_type": "execute_result"
    }
   ],
   "source": [
    "customer1.amount, customer2.amount"
   ]
  },
  {
   "cell_type": "code",
   "execution_count": 17,
   "id": "5ce1bbd8-77da-4cf0-9607-5ddec30c73de",
   "metadata": {
    "tags": []
   },
   "outputs": [
    {
     "data": {
      "text/plain": [
       "(0, 10000)"
      ]
     },
     "execution_count": 17,
     "metadata": {},
     "output_type": "execute_result"
    }
   ],
   "source": [
    "# 데이터 수정 : 데이터선택 = 수정할 데이터\n",
    "customer2.amount = 10000\n",
    "customer1.amount, customer2.amount"
   ]
  },
  {
   "cell_type": "code",
   "execution_count": 18,
   "id": "ee1838c6-5fe7-4786-9233-bf0e2bde6f9b",
   "metadata": {
    "tags": []
   },
   "outputs": [
    {
     "data": {
      "text/plain": [
       "(30000, 0)"
      ]
     },
     "execution_count": 18,
     "metadata": {},
     "output_type": "execute_result"
    }
   ],
   "source": [
    "# 메서드호출 : 코드실행 \n",
    "customer1.new_order(30000)    # customer1.amount += 30000\n",
    "customer2.cancel_order(10000) # customer2.amount -= 10000\n",
    "customer1.amount, customer2.amount"
   ]
  },
  {
   "cell_type": "markdown",
   "id": "e01a7e58-9afa-4b27-909a-312beab06375",
   "metadata": {},
   "source": [
    "### 데이터프레임 클래스 예시\n",
    "DataFrame도 클래스이다."
   ]
  },
  {
   "cell_type": "code",
   "execution_count": 1,
   "id": "4f64ee51-9ebd-47ae-b4bf-4831d7d0f7b5",
   "metadata": {
    "tags": []
   },
   "outputs": [
    {
     "data": {
      "text/html": [
       "<div>\n",
       "<style scoped>\n",
       "    .dataframe tbody tr th:only-of-type {\n",
       "        vertical-align: middle;\n",
       "    }\n",
       "\n",
       "    .dataframe tbody tr th {\n",
       "        vertical-align: top;\n",
       "    }\n",
       "\n",
       "    .dataframe thead th {\n",
       "        text-align: right;\n",
       "    }\n",
       "</style>\n",
       "<table border=\"1\" class=\"dataframe\">\n",
       "  <thead>\n",
       "    <tr style=\"text-align: right;\">\n",
       "      <th></th>\n",
       "      <th>ui</th>\n",
       "      <th>name</th>\n",
       "    </tr>\n",
       "  </thead>\n",
       "  <tbody>\n",
       "    <tr>\n",
       "      <th>0</th>\n",
       "      <td>0</td>\n",
       "      <td>A</td>\n",
       "    </tr>\n",
       "    <tr>\n",
       "      <th>1</th>\n",
       "      <td>1</td>\n",
       "      <td>B</td>\n",
       "    </tr>\n",
       "    <tr>\n",
       "      <th>2</th>\n",
       "      <td>2</td>\n",
       "      <td>C</td>\n",
       "    </tr>\n",
       "  </tbody>\n",
       "</table>\n",
       "</div>"
      ],
      "text/plain": [
       "   ui name\n",
       "0   0    A\n",
       "1   1    B\n",
       "2   2    C"
      ]
     },
     "execution_count": 1,
     "metadata": {},
     "output_type": "execute_result"
    }
   ],
   "source": [
    "import pandas as pd\n",
    "df = pd.DataFrame({'ui':range(3), 'name':['A', 'B', 'C']})\n",
    "df"
   ]
  },
  {
   "cell_type": "code",
   "execution_count": 2,
   "id": "ef20897f",
   "metadata": {},
   "outputs": [
    {
     "data": {
      "text/plain": [
       "['T',\n",
       " '_AXIS_LEN',\n",
       " '_AXIS_ORDERS',\n",
       " '_AXIS_TO_AXIS_NUMBER',\n",
       " '_HANDLED_TYPES',\n",
       " '__abs__',\n",
       " '__add__',\n",
       " '__and__',\n",
       " '__annotations__',\n",
       " '__array__',\n",
       " '__array_priority__',\n",
       " '__array_ufunc__',\n",
       " '__arrow_c_stream__',\n",
       " '__bool__',\n",
       " '__class__',\n",
       " '__contains__',\n",
       " '__copy__',\n",
       " '__dataframe__',\n",
       " '__dataframe_consortium_standard__',\n",
       " '__deepcopy__',\n",
       " '__delattr__',\n",
       " '__delitem__',\n",
       " '__dict__',\n",
       " '__dir__',\n",
       " '__divmod__',\n",
       " '__doc__',\n",
       " '__eq__',\n",
       " '__finalize__',\n",
       " '__floordiv__',\n",
       " '__format__',\n",
       " '__ge__',\n",
       " '__getattr__',\n",
       " '__getattribute__',\n",
       " '__getitem__',\n",
       " '__getstate__',\n",
       " '__gt__',\n",
       " '__hash__',\n",
       " '__iadd__',\n",
       " '__iand__',\n",
       " '__ifloordiv__',\n",
       " '__imod__',\n",
       " '__imul__',\n",
       " '__init__',\n",
       " '__init_subclass__',\n",
       " '__invert__',\n",
       " '__ior__',\n",
       " '__ipow__',\n",
       " '__isub__',\n",
       " '__iter__',\n",
       " '__itruediv__',\n",
       " '__ixor__',\n",
       " '__le__',\n",
       " '__len__',\n",
       " '__lt__',\n",
       " '__matmul__',\n",
       " '__mod__',\n",
       " '__module__',\n",
       " '__mul__',\n",
       " '__ne__',\n",
       " '__neg__',\n",
       " '__new__',\n",
       " '__nonzero__',\n",
       " '__or__',\n",
       " '__pandas_priority__',\n",
       " '__pos__',\n",
       " '__pow__',\n",
       " '__radd__',\n",
       " '__rand__',\n",
       " '__rdivmod__',\n",
       " '__reduce__',\n",
       " '__reduce_ex__',\n",
       " '__repr__',\n",
       " '__rfloordiv__',\n",
       " '__rmatmul__',\n",
       " '__rmod__',\n",
       " '__rmul__',\n",
       " '__ror__',\n",
       " '__round__',\n",
       " '__rpow__',\n",
       " '__rsub__',\n",
       " '__rtruediv__',\n",
       " '__rxor__',\n",
       " '__setattr__',\n",
       " '__setitem__',\n",
       " '__setstate__',\n",
       " '__sizeof__',\n",
       " '__str__',\n",
       " '__sub__',\n",
       " '__subclasshook__',\n",
       " '__truediv__',\n",
       " '__weakref__',\n",
       " '__xor__',\n",
       " '_accessors',\n",
       " '_accum_func',\n",
       " '_agg_examples_doc',\n",
       " '_agg_see_also_doc',\n",
       " '_align_for_op',\n",
       " '_align_frame',\n",
       " '_align_series',\n",
       " '_append',\n",
       " '_arith_method',\n",
       " '_arith_method_with_reindex',\n",
       " '_as_manager',\n",
       " '_attrs',\n",
       " '_box_col_values',\n",
       " '_can_fast_transpose',\n",
       " '_check_inplace_and_allows_duplicate_labels',\n",
       " '_check_is_chained_assignment_possible',\n",
       " '_check_label_or_level_ambiguity',\n",
       " '_check_setitem_copy',\n",
       " '_clear_item_cache',\n",
       " '_clip_with_one_bound',\n",
       " '_clip_with_scalar',\n",
       " '_cmp_method',\n",
       " '_combine_frame',\n",
       " '_consolidate',\n",
       " '_consolidate_inplace',\n",
       " '_construct_axes_dict',\n",
       " '_construct_result',\n",
       " '_constructor',\n",
       " '_constructor_from_mgr',\n",
       " '_constructor_sliced',\n",
       " '_constructor_sliced_from_mgr',\n",
       " '_create_data_for_split_and_tight_to_dict',\n",
       " '_data',\n",
       " '_deprecate_downcast',\n",
       " '_dir_additions',\n",
       " '_dir_deletions',\n",
       " '_dispatch_frame_op',\n",
       " '_drop_axis',\n",
       " '_drop_labels_or_levels',\n",
       " '_ensure_valid_index',\n",
       " '_find_valid_index',\n",
       " '_flags',\n",
       " '_flex_arith_method',\n",
       " '_flex_cmp_method',\n",
       " '_from_arrays',\n",
       " '_from_mgr',\n",
       " '_get_agg_axis',\n",
       " '_get_axis',\n",
       " '_get_axis_name',\n",
       " '_get_axis_number',\n",
       " '_get_axis_resolvers',\n",
       " '_get_block_manager_axis',\n",
       " '_get_bool_data',\n",
       " '_get_cleaned_column_resolvers',\n",
       " '_get_column_array',\n",
       " '_get_index_resolvers',\n",
       " '_get_item_cache',\n",
       " '_get_label_or_level_values',\n",
       " '_get_numeric_data',\n",
       " '_get_value',\n",
       " '_get_values_for_csv',\n",
       " '_getitem_bool_array',\n",
       " '_getitem_multilevel',\n",
       " '_getitem_nocopy',\n",
       " '_getitem_slice',\n",
       " '_gotitem',\n",
       " '_hidden_attrs',\n",
       " '_indexed_same',\n",
       " '_info_axis',\n",
       " '_info_axis_name',\n",
       " '_info_axis_number',\n",
       " '_info_repr',\n",
       " '_init_mgr',\n",
       " '_inplace_method',\n",
       " '_internal_names',\n",
       " '_internal_names_set',\n",
       " '_is_copy',\n",
       " '_is_homogeneous_type',\n",
       " '_is_label_or_level_reference',\n",
       " '_is_label_reference',\n",
       " '_is_level_reference',\n",
       " '_is_mixed_type',\n",
       " '_is_view',\n",
       " '_is_view_after_cow_rules',\n",
       " '_iset_item',\n",
       " '_iset_item_mgr',\n",
       " '_iset_not_inplace',\n",
       " '_item_cache',\n",
       " '_iter_column_arrays',\n",
       " '_ixs',\n",
       " '_logical_func',\n",
       " '_logical_method',\n",
       " '_maybe_align_series_as_frame',\n",
       " '_maybe_cache_changed',\n",
       " '_maybe_update_cacher',\n",
       " '_metadata',\n",
       " '_mgr',\n",
       " '_min_count_stat_function',\n",
       " '_needs_reindex_multi',\n",
       " '_pad_or_backfill',\n",
       " '_protect_consolidate',\n",
       " '_reduce',\n",
       " '_reduce_axis1',\n",
       " '_reindex_axes',\n",
       " '_reindex_multi',\n",
       " '_reindex_with_indexers',\n",
       " '_rename',\n",
       " '_replace_columnwise',\n",
       " '_repr_data_resource_',\n",
       " '_repr_fits_horizontal_',\n",
       " '_repr_fits_vertical_',\n",
       " '_repr_html_',\n",
       " '_repr_latex_',\n",
       " '_reset_cache',\n",
       " '_reset_cacher',\n",
       " '_sanitize_column',\n",
       " '_series',\n",
       " '_set_axis',\n",
       " '_set_axis_name',\n",
       " '_set_axis_nocheck',\n",
       " '_set_is_copy',\n",
       " '_set_item',\n",
       " '_set_item_frame_value',\n",
       " '_set_item_mgr',\n",
       " '_set_value',\n",
       " '_setitem_array',\n",
       " '_setitem_frame',\n",
       " '_setitem_slice',\n",
       " '_shift_with_freq',\n",
       " '_should_reindex_frame_op',\n",
       " '_slice',\n",
       " '_stat_function',\n",
       " '_stat_function_ddof',\n",
       " '_take_with_is_copy',\n",
       " '_to_dict_of_blocks',\n",
       " '_to_latex_via_styler',\n",
       " '_typ',\n",
       " '_update_inplace',\n",
       " '_validate_dtype',\n",
       " '_values',\n",
       " '_where',\n",
       " 'abs',\n",
       " 'add',\n",
       " 'add_prefix',\n",
       " 'add_suffix',\n",
       " 'agg',\n",
       " 'aggregate',\n",
       " 'align',\n",
       " 'all',\n",
       " 'any',\n",
       " 'apply',\n",
       " 'applymap',\n",
       " 'asfreq',\n",
       " 'asof',\n",
       " 'assign',\n",
       " 'astype',\n",
       " 'at',\n",
       " 'at_time',\n",
       " 'attrs',\n",
       " 'axes',\n",
       " 'backfill',\n",
       " 'between_time',\n",
       " 'bfill',\n",
       " 'bool',\n",
       " 'boxplot',\n",
       " 'clip',\n",
       " 'columns',\n",
       " 'combine',\n",
       " 'combine_first',\n",
       " 'compare',\n",
       " 'convert_dtypes',\n",
       " 'copy',\n",
       " 'corr',\n",
       " 'corrwith',\n",
       " 'count',\n",
       " 'cov',\n",
       " 'cummax',\n",
       " 'cummin',\n",
       " 'cumprod',\n",
       " 'cumsum',\n",
       " 'describe',\n",
       " 'diff',\n",
       " 'div',\n",
       " 'divide',\n",
       " 'dot',\n",
       " 'drop',\n",
       " 'drop_duplicates',\n",
       " 'droplevel',\n",
       " 'dropna',\n",
       " 'dtypes',\n",
       " 'duplicated',\n",
       " 'empty',\n",
       " 'eq',\n",
       " 'equals',\n",
       " 'eval',\n",
       " 'ewm',\n",
       " 'expanding',\n",
       " 'explode',\n",
       " 'ffill',\n",
       " 'fillna',\n",
       " 'filter',\n",
       " 'first',\n",
       " 'first_valid_index',\n",
       " 'flags',\n",
       " 'floordiv',\n",
       " 'from_dict',\n",
       " 'from_records',\n",
       " 'ge',\n",
       " 'get',\n",
       " 'groupby',\n",
       " 'gt',\n",
       " 'head',\n",
       " 'hist',\n",
       " 'iat',\n",
       " 'idxmax',\n",
       " 'idxmin',\n",
       " 'iloc',\n",
       " 'index',\n",
       " 'infer_objects',\n",
       " 'info',\n",
       " 'insert',\n",
       " 'interpolate',\n",
       " 'isetitem',\n",
       " 'isin',\n",
       " 'isna',\n",
       " 'isnull',\n",
       " 'items',\n",
       " 'iterrows',\n",
       " 'itertuples',\n",
       " 'join',\n",
       " 'keys',\n",
       " 'kurt',\n",
       " 'kurtosis',\n",
       " 'last',\n",
       " 'last_valid_index',\n",
       " 'le',\n",
       " 'loc',\n",
       " 'lt',\n",
       " 'map',\n",
       " 'mask',\n",
       " 'max',\n",
       " 'mean',\n",
       " 'median',\n",
       " 'melt',\n",
       " 'memory_usage',\n",
       " 'merge',\n",
       " 'min',\n",
       " 'mod',\n",
       " 'mode',\n",
       " 'mul',\n",
       " 'multiply',\n",
       " 'name',\n",
       " 'ndim',\n",
       " 'ne',\n",
       " 'nlargest',\n",
       " 'notna',\n",
       " 'notnull',\n",
       " 'nsmallest',\n",
       " 'nunique',\n",
       " 'pad',\n",
       " 'pct_change',\n",
       " 'pipe',\n",
       " 'pivot',\n",
       " 'pivot_table',\n",
       " 'plot',\n",
       " 'pop',\n",
       " 'pow',\n",
       " 'prod',\n",
       " 'product',\n",
       " 'quantile',\n",
       " 'query',\n",
       " 'radd',\n",
       " 'rank',\n",
       " 'rdiv',\n",
       " 'reindex',\n",
       " 'reindex_like',\n",
       " 'rename',\n",
       " 'rename_axis',\n",
       " 'reorder_levels',\n",
       " 'replace',\n",
       " 'resample',\n",
       " 'reset_index',\n",
       " 'rfloordiv',\n",
       " 'rmod',\n",
       " 'rmul',\n",
       " 'rolling',\n",
       " 'round',\n",
       " 'rpow',\n",
       " 'rsub',\n",
       " 'rtruediv',\n",
       " 'sample',\n",
       " 'select_dtypes',\n",
       " 'sem',\n",
       " 'set_axis',\n",
       " 'set_flags',\n",
       " 'set_index',\n",
       " 'shape',\n",
       " 'shift',\n",
       " 'size',\n",
       " 'skew',\n",
       " 'sort_index',\n",
       " 'sort_values',\n",
       " 'squeeze',\n",
       " 'stack',\n",
       " 'std',\n",
       " 'style',\n",
       " 'sub',\n",
       " 'subtract',\n",
       " 'sum',\n",
       " 'swapaxes',\n",
       " 'swaplevel',\n",
       " 'tail',\n",
       " 'take',\n",
       " 'to_clipboard',\n",
       " 'to_csv',\n",
       " 'to_dict',\n",
       " 'to_excel',\n",
       " 'to_feather',\n",
       " 'to_gbq',\n",
       " 'to_hdf',\n",
       " 'to_html',\n",
       " 'to_json',\n",
       " 'to_latex',\n",
       " 'to_markdown',\n",
       " 'to_numpy',\n",
       " 'to_orc',\n",
       " 'to_parquet',\n",
       " 'to_period',\n",
       " 'to_pickle',\n",
       " 'to_records',\n",
       " 'to_sql',\n",
       " 'to_stata',\n",
       " 'to_string',\n",
       " 'to_timestamp',\n",
       " 'to_xarray',\n",
       " 'to_xml',\n",
       " 'transform',\n",
       " 'transpose',\n",
       " 'truediv',\n",
       " 'truncate',\n",
       " 'tz_convert',\n",
       " 'tz_localize',\n",
       " 'ui',\n",
       " 'unstack',\n",
       " 'update',\n",
       " 'value_counts',\n",
       " 'values',\n",
       " 'var',\n",
       " 'where',\n",
       " 'xs']"
      ]
     },
     "execution_count": 2,
     "metadata": {},
     "output_type": "execute_result"
    }
   ],
   "source": [
    "dir(df) # df 객체에 사용 가능한 속성과 메서드 목록"
   ]
  },
  {
   "cell_type": "code",
   "execution_count": 21,
   "id": "561f91da-2250-446d-8593-d3f2d5ec8994",
   "metadata": {
    "collapsed": true,
    "jupyter": {
     "outputs_hidden": true
    },
    "tags": []
   },
   "outputs": [
    {
     "name": "stdout",
     "output_type": "stream",
     "text": [
      "Help on method corr in module pandas.core.frame:\n",
      "\n",
      "corr(method: 'str | Callable[[np.ndarray, np.ndarray], float]' = 'pearson', min_periods: 'int' = 1, numeric_only: 'bool | lib.NoDefault' = <no_default>) -> 'DataFrame' method of pandas.core.frame.DataFrame instance\n",
      "    Compute pairwise correlation of columns, excluding NA/null values.\n",
      "    \n",
      "    Parameters\n",
      "    ----------\n",
      "    method : {'pearson', 'kendall', 'spearman'} or callable\n",
      "        Method of correlation:\n",
      "    \n",
      "        * pearson : standard correlation coefficient\n",
      "        * kendall : Kendall Tau correlation coefficient\n",
      "        * spearman : Spearman rank correlation\n",
      "        * callable: callable with input two 1d ndarrays\n",
      "            and returning a float. Note that the returned matrix from corr\n",
      "            will have 1 along the diagonals and will be symmetric\n",
      "            regardless of the callable's behavior.\n",
      "    min_periods : int, optional\n",
      "        Minimum number of observations required per pair of columns\n",
      "        to have a valid result. Currently only available for Pearson\n",
      "        and Spearman correlation.\n",
      "    numeric_only : bool, default True\n",
      "        Include only `float`, `int` or `boolean` data.\n",
      "    \n",
      "        .. versionadded:: 1.5.0\n",
      "    \n",
      "        .. deprecated:: 1.5.0\n",
      "            The default value of ``numeric_only`` will be ``False`` in a future\n",
      "            version of pandas.\n",
      "    \n",
      "    Returns\n",
      "    -------\n",
      "    DataFrame\n",
      "        Correlation matrix.\n",
      "    \n",
      "    See Also\n",
      "    --------\n",
      "    DataFrame.corrwith : Compute pairwise correlation with another\n",
      "        DataFrame or Series.\n",
      "    Series.corr : Compute the correlation between two Series.\n",
      "    \n",
      "    Notes\n",
      "    -----\n",
      "    Pearson, Kendall and Spearman correlation are currently computed using pairwise complete observations.\n",
      "    \n",
      "    * `Pearson correlation coefficient <https://en.wikipedia.org/wiki/Pearson_correlation_coefficient>`_\n",
      "    * `Kendall rank correlation coefficient <https://en.wikipedia.org/wiki/Kendall_rank_correlation_coefficient>`_\n",
      "    * `Spearman's rank correlation coefficient <https://en.wikipedia.org/wiki/Spearman%27s_rank_correlation_coefficient>`_\n",
      "    \n",
      "    Examples\n",
      "    --------\n",
      "    >>> def histogram_intersection(a, b):\n",
      "    ...     v = np.minimum(a, b).sum().round(decimals=1)\n",
      "    ...     return v\n",
      "    >>> df = pd.DataFrame([(.2, .3), (.0, .6), (.6, .0), (.2, .1)],\n",
      "    ...                   columns=['dogs', 'cats'])\n",
      "    >>> df.corr(method=histogram_intersection)\n",
      "          dogs  cats\n",
      "    dogs   1.0   0.3\n",
      "    cats   0.3   1.0\n",
      "    \n",
      "    >>> df = pd.DataFrame([(1, 1), (2, np.nan), (np.nan, 3), (4, 4)],\n",
      "    ...                   columns=['dogs', 'cats'])\n",
      "    >>> df.corr(min_periods=3)\n",
      "          dogs  cats\n",
      "    dogs   1.0   NaN\n",
      "    cats   NaN   1.0\n",
      "\n"
     ]
    }
   ],
   "source": [
    "help(df.corr) # 메서드 사용 방법 설명서"
   ]
  },
  {
   "cell_type": "code",
   "execution_count": 22,
   "id": "37a0147f-9355-42bc-94e1-d22b2b4b35e8",
   "metadata": {
    "tags": []
   },
   "outputs": [
    {
     "data": {
      "text/plain": [
       "Index(['ui', 'name'], dtype='object')"
      ]
     },
     "execution_count": 22,
     "metadata": {},
     "output_type": "execute_result"
    }
   ],
   "source": [
    "df.columns  # 데이터프레임 클래스의 변수"
   ]
  },
  {
   "cell_type": "code",
   "execution_count": 23,
   "id": "289cb770-97eb-4578-9613-d2500dcc6dbb",
   "metadata": {
    "tags": []
   },
   "outputs": [
    {
     "data": {
      "text/html": [
       "<div>\n",
       "<style scoped>\n",
       "    .dataframe tbody tr th:only-of-type {\n",
       "        vertical-align: middle;\n",
       "    }\n",
       "\n",
       "    .dataframe tbody tr th {\n",
       "        vertical-align: top;\n",
       "    }\n",
       "\n",
       "    .dataframe thead th {\n",
       "        text-align: right;\n",
       "    }\n",
       "</style>\n",
       "<table border=\"1\" class=\"dataframe\">\n",
       "  <thead>\n",
       "    <tr style=\"text-align: right;\">\n",
       "      <th></th>\n",
       "      <th>user_id</th>\n",
       "      <th>full_name</th>\n",
       "    </tr>\n",
       "  </thead>\n",
       "  <tbody>\n",
       "    <tr>\n",
       "      <th>0</th>\n",
       "      <td>0</td>\n",
       "      <td>A</td>\n",
       "    </tr>\n",
       "    <tr>\n",
       "      <th>1</th>\n",
       "      <td>1</td>\n",
       "      <td>B</td>\n",
       "    </tr>\n",
       "    <tr>\n",
       "      <th>2</th>\n",
       "      <td>2</td>\n",
       "      <td>C</td>\n",
       "    </tr>\n",
       "  </tbody>\n",
       "</table>\n",
       "</div>"
      ],
      "text/plain": [
       "   user_id full_name\n",
       "0        0         A\n",
       "1        1         B\n",
       "2        2         C"
      ]
     },
     "execution_count": 23,
     "metadata": {},
     "output_type": "execute_result"
    }
   ],
   "source": [
    "# 데이터 수정\n",
    "df.columns = ['user_id', 'full_name']\n",
    "df"
   ]
  },
  {
   "cell_type": "markdown",
   "id": "794fde5b-3756-437b-8b8b-96b67f79fdcd",
   "metadata": {},
   "source": [
    "### 생성자 사용 예시"
   ]
  },
  {
   "cell_type": "code",
   "execution_count": 24,
   "id": "b5164ace-df34-4683-82f6-421a0097db16",
   "metadata": {
    "tags": []
   },
   "outputs": [],
   "source": [
    "# 클래스선언\n",
    "class Order:\n",
    "    \n",
    "    # 객체가 생성될때 실행되는 메서드\n",
    "    # 다른 메서드에서 사용할 변수를 검사하거나 초기값을 설정\n",
    "    def __init__(self, amount=0): \n",
    "        self.amount = amount\n",
    "    \n",
    "    def new_order(self, price):\n",
    "        self.amount += price\n",
    "        \n",
    "    def cancel_order(self, price):\n",
    "        self.amount -= price"
   ]
  },
  {
   "cell_type": "code",
   "execution_count": 27,
   "id": "c2e3d9c9-0cde-4bf7-a572-64f54bd8c6b5",
   "metadata": {
    "tags": []
   },
   "outputs": [
    {
     "data": {
      "text/plain": [
       "(20000, 0)"
      ]
     },
     "execution_count": 27,
     "metadata": {},
     "output_type": "execute_result"
    }
   ],
   "source": [
    "# 객체 생성 (메모리 사용)\n",
    "customer1 = Order(20000)\n",
    "customer2 = Order()\n",
    "customer1.amount, customer2.amount"
   ]
  },
  {
   "cell_type": "code",
   "execution_count": 28,
   "id": "b6b0f794-f3d5-4e24-852a-03d2fb0264ba",
   "metadata": {
    "tags": []
   },
   "outputs": [
    {
     "data": {
      "text/plain": [
       "(50000, 0)"
      ]
     },
     "execution_count": 28,
     "metadata": {},
     "output_type": "execute_result"
    }
   ],
   "source": [
    "# 메서드호출 : 코드실행 \n",
    "customer1.new_order(30000)\n",
    "customer1.amount, customer2.amount"
   ]
  },
  {
   "cell_type": "markdown",
   "id": "dae95fbe-7fda-4a84-933c-3373616b9d94",
   "metadata": {},
   "source": [
    "## 데이터타입\n",
    "- 클래스는 사용자정의 데이터타입이다. \n",
    "- 데이터타입이 다르면 사용할수 있는 변수, 함수가 다르다."
   ]
  },
  {
   "cell_type": "code",
   "execution_count": 29,
   "id": "810f5473-99be-4b6c-bab7-266a543f0c4d",
   "metadata": {
    "tags": []
   },
   "outputs": [
    {
     "data": {
      "text/plain": [
       "__main__.Order"
      ]
     },
     "execution_count": 29,
     "metadata": {},
     "output_type": "execute_result"
    }
   ],
   "source": [
    "cus = Order()\n",
    "type(cus)  # cus 객체의 데이터타입 : Order"
   ]
  },
  {
   "cell_type": "code",
   "execution_count": 30,
   "id": "b7826980-f2a2-40ba-9150-1f0de09d140e",
   "metadata": {
    "tags": []
   },
   "outputs": [
    {
     "data": {
      "text/plain": [
       "(str, ['translate', 'upper', 'zfill'])"
      ]
     },
     "execution_count": 30,
     "metadata": {},
     "output_type": "execute_result"
    }
   ],
   "source": [
    "# data 객체의 클래스 : str \n",
    "# data 객체의 데이터타입 : str\n",
    "# C언어 기반 클래스이기때문에 클래스명이 소문자로 시작함\n",
    "\n",
    "# data 객체에서 사용가능한 변수, 함수는 str 클래스에서 정의\n",
    "data = 'python'\n",
    "type(data), dir(data)[-3:]"
   ]
  },
  {
   "cell_type": "code",
   "execution_count": 31,
   "id": "616738cf-8dab-424f-b828-a2f0b08754a3",
   "metadata": {
    "tags": []
   },
   "outputs": [
    {
     "name": "stdout",
     "output_type": "stream",
     "text": [
      "Help on built-in function upper:\n",
      "\n",
      "upper() method of builtins.str instance\n",
      "    Return a copy of the string converted to uppercase.\n",
      "\n"
     ]
    }
   ],
   "source": [
    "help(data.upper)"
   ]
  },
  {
   "cell_type": "markdown",
   "id": "8fbf3289-7033-4c13-86e7-b958552bc98d",
   "metadata": {},
   "source": [
    "- 데이터타입이 다르면, 사용할 수 있는 변수, 함수가 다르다."
   ]
  },
  {
   "cell_type": "code",
   "execution_count": 32,
   "id": "5d67400b-823b-467c-b20e-7d1ac86cc4b8",
   "metadata": {
    "tags": []
   },
   "outputs": [
    {
     "data": {
      "text/plain": [
       "(str, list)"
      ]
     },
     "execution_count": 32,
     "metadata": {},
     "output_type": "execute_result"
    }
   ],
   "source": [
    "d1, d2 = 'python', [1, 3, 2] \n",
    "type(d1), type(d2)"
   ]
  },
  {
   "cell_type": "code",
   "execution_count": 33,
   "id": "6e0e3ed7-8c16-451a-8b0b-6d57ca0ac9d6",
   "metadata": {
    "tags": []
   },
   "outputs": [
    {
     "data": {
      "text/plain": [
       "(['translate', 'upper', 'zfill'], ['remove', 'reverse', 'sort'])"
      ]
     },
     "execution_count": 33,
     "metadata": {},
     "output_type": "execute_result"
    }
   ],
   "source": [
    "dir(d1)[-3:], dir(d2)[-3:]"
   ]
  }
 ],
 "metadata": {
  "kernelspec": {
   "display_name": "Python 3 (ipykernel)",
   "language": "python",
   "name": "python3"
  },
  "language_info": {
   "codemirror_mode": {
    "name": "ipython",
    "version": 3
   },
   "file_extension": ".py",
   "mimetype": "text/x-python",
   "name": "python",
   "nbconvert_exporter": "python",
   "pygments_lexer": "ipython3",
   "version": "3.12.3"
  },
  "toc-autonumbering": false,
  "toc-showcode": false,
  "toc-showmarkdowntxt": false
 },
 "nbformat": 4,
 "nbformat_minor": 5
}
