{
 "cells": [
  {
   "cell_type": "markdown",
   "id": "e0fc2909-7c80-47f9-abf1-43fa606eeee7",
   "metadata": {},
   "source": [
    "# Numpy"
   ]
  },
  {
   "cell_type": "code",
   "execution_count": 2,
   "id": "9bf3f6d5-31f2-47fe-acef-211d9949e597",
   "metadata": {
    "tags": []
   },
   "outputs": [],
   "source": [
    "import numpy as np"
   ]
  },
  {
   "cell_type": "markdown",
   "id": "f040414e-fb67-4a6d-b867-4e6f033bd963",
   "metadata": {},
   "source": [
    "배열 생성"
   ]
  },
  {
   "cell_type": "code",
   "execution_count": 3,
   "id": "68ee29fc-f9bb-484d-a87d-73835a78ad78",
   "metadata": {},
   "outputs": [
    {
     "name": "stdout",
     "output_type": "stream",
     "text": [
      "[1 2 3 4 5]\n"
     ]
    }
   ],
   "source": [
    "# 1차원 리스트\n",
    "a1 = [1, 2, 3, 4, 5]\n",
    "\n",
    "# 배열로 변환\n",
    "b1 = np.array(a1)\n",
    "\n",
    "# 확인\n",
    "print(b1)"
   ]
  },
  {
   "cell_type": "code",
   "execution_count": 4,
   "id": "86e3840d-3995-450e-ba8b-0d2332b6ac72",
   "metadata": {},
   "outputs": [
    {
     "name": "stdout",
     "output_type": "stream",
     "text": [
      "[[1.5 2.5 3.2]\n",
      " [4.2 5.7 6.4]]\n"
     ]
    }
   ],
   "source": [
    "# 2차원 리스트 \n",
    "# a2 = [[1.5, 2.5, 3.2], [4.2, 5.7, 6.4]]\n",
    "a2 = [[1.5, 2.5, 3.2], \n",
    "      [4.2, 5.7, 6.4]]\n",
    "\n",
    "# 배열로 변환\n",
    "b2 = np.array(a2)\n",
    "\n",
    "# 확인\n",
    "print(b2)"
   ]
  },
  {
   "cell_type": "code",
   "execution_count": 5,
   "id": "998a830f-2747-4f0a-b7c3-eee379715ce2",
   "metadata": {},
   "outputs": [
    {
     "name": "stdout",
     "output_type": "stream",
     "text": [
      "[[[1 3 1]\n",
      "  [4 7 6]\n",
      "  [8 3 4]]\n",
      "\n",
      " [[6 2 4]\n",
      "  [8 1 5]\n",
      "  [3 5 9]]]\n"
     ]
    }
   ],
   "source": [
    "# 3차원 리스트\n",
    "# a3 = [[[1, 3, 1], [4, 7, 6], [8, 3, 4]], [[6, 2, 4], [8, 1, 5], [3, 5, 9]]]\n",
    "a3 = [[[1, 3, 1],\n",
    "       [4, 7, 6],\n",
    "       [8, 3, 4]],\n",
    "      [[6, 2, 4],  \n",
    "       [8, 1, 5],\n",
    "       [3, 5, 9]]]\n",
    "\n",
    "# 배열로 변환\n",
    "b3 = np.array(a3)\n",
    "\n",
    "# 확인\n",
    "print(b3)"
   ]
  },
  {
   "cell_type": "markdown",
   "id": "bbd6d977-6c69-489e-8d12-f34c2e2ef153",
   "metadata": {},
   "source": [
    "배열 생성 함수"
   ]
  },
  {
   "cell_type": "code",
   "execution_count": 6,
   "id": "94ceb227-c6b9-415b-b398-0381bf1b29ff",
   "metadata": {},
   "outputs": [
    {
     "name": "stdout",
     "output_type": "stream",
     "text": [
      "[[0. 0.]\n",
      " [0. 0.]]\n",
      "[[1. 1.]]\n",
      "[[7. 7.]\n",
      " [7. 7.]]\n",
      "[[1. 0.]\n",
      " [0. 1.]]\n",
      "[[0.40731719 0.26993635]\n",
      " [0.53281409 0.73076329]]\n"
     ]
    }
   ],
   "source": [
    "print(np.zeros((2, 2)))          # 0으로 채워진 배열\n",
    "print(np.ones((1, 2)))           # 1로 채워진 배열\n",
    "print(np.full((2, 2), 7.))       # 특정 값으로 채워진 배열\n",
    "print(np.eye(2))                 # 2x2 단위 행렬(identity matrix)\n",
    "print(np.random.random((2, 2)))  # 랜덤 값으로 채운 배열"
   ]
  },
  {
   "cell_type": "markdown",
   "id": "268f221e-4181-4d07-a060-e0b363ed3727",
   "metadata": {},
   "source": [
    "배열 정보 확인"
   ]
  },
  {
   "cell_type": "code",
   "execution_count": 7,
   "id": "eb658002-a4f9-4dc6-883c-01a51a645cb4",
   "metadata": {},
   "outputs": [
    {
     "name": "stdout",
     "output_type": "stream",
     "text": [
      "1\n",
      "2\n",
      "3\n",
      "(5,)\n",
      "(2, 3)\n",
      "(2, 3, 3)\n",
      "int32\n",
      "float64\n",
      "int32\n"
     ]
    }
   ],
   "source": [
    "# 차원 확인\n",
    "print(b1.ndim)\n",
    "print(b2.ndim)\n",
    "print(b3.ndim)\n",
    "\n",
    "# 형태(크기) 확인\n",
    "print(b1.shape) # 1차원\n",
    "print(b2.shape) \n",
    "print(b3.shape)\n",
    "\n",
    "# 요소 자료형 형식 확인\n",
    "print(b1.dtype)\n",
    "print(b2.dtype)\n",
    "print(b3.dtype)"
   ]
  },
  {
   "cell_type": "markdown",
   "id": "8bfb1b3d-b74a-46b8-9632-e3b8f745f7f0",
   "metadata": {},
   "source": [
    "Reshape"
   ]
  },
  {
   "cell_type": "code",
   "execution_count": 8,
   "id": "54325f9d-aa56-47a4-a48d-cdde65e2a24a",
   "metadata": {},
   "outputs": [
    {
     "name": "stdout",
     "output_type": "stream",
     "text": [
      "[[1 2]\n",
      " [3 4]\n",
      " [5 6]]\n",
      "[1 2 3 4 5 6]\n",
      "[[1 2 3 4 5 6]]\n",
      "[[1 2 3]\n",
      " [4 5 6]]\n",
      "[[1 2]\n",
      " [3 4]\n",
      " [5 6]]\n",
      "[[1]\n",
      " [2]\n",
      " [3]\n",
      " [4]\n",
      " [5]\n",
      " [6]]\n"
     ]
    }
   ],
   "source": [
    "a = np.array([[1, 2, 3], \n",
    "              [4, 5, 6]])\n",
    "\n",
    "print(a.reshape(3, 2))\n",
    "\n",
    "print(a.reshape(6))      # 1차원 # a.reshape(6, )\n",
    "\n",
    "# -1: 행 또는 열의 수는 데이터에 맞게 알아서 조정\n",
    "print(a.reshape(1, -1))  # 2차원\n",
    "print(a.reshape(2, -1))\n",
    "print(a.reshape(3, -1))\n",
    "#print(a.reshape(4, -1))  # 에러 남 # 개수가 안맞기 때문\n",
    "#print(a.reshape(5, -1))  # 에러 남 # 개수가 안맞기 때문\n",
    "print(a.reshape(6, -1))"
   ]
  },
  {
   "cell_type": "markdown",
   "id": "813ec573-e24f-4abd-8284-0499b9a08bb0",
   "metadata": {},
   "source": [
    "np.mean()과 .mean()"
   ]
  },
  {
   "cell_type": "code",
   "execution_count": 3,
   "id": "b1996405-bccd-4013-82b3-3e039e5f01f9",
   "metadata": {},
   "outputs": [
    {
     "name": "stdout",
     "output_type": "stream",
     "text": [
      "2.0\n",
      "2.0\n",
      "2.0\n",
      "2.0\n"
     ]
    }
   ],
   "source": [
    "# 선언\n",
    "a = [1,2,3] # 리스트\n",
    "b = (1,2,3) # 튜플\n",
    "c = np.array([1,2,3]) # 배열\n",
    "\n",
    "# 평균 구하기 : 함수\n",
    "print(np.mean(a))\n",
    "print(np.mean(b))\n",
    "print(np.mean(c))\n",
    "\n",
    "# 평균 구하기 : 메서드 방식\n",
    "# print(a.mean()) # AttributeError: 'list' object has no attribute 'mean'\n",
    "# print(b.mean()) # AttributeError: 'tuple' object has no attribute 'mean'\n",
    "print(c.mean()) # 가능"
   ]
  },
  {
   "cell_type": "markdown",
   "id": "bd231b2c-636d-4188-a2ef-ca0658ad9423",
   "metadata": {},
   "source": [
    "배열 인덱싱, 슬라이싱 조회"
   ]
  },
  {
   "attachments": {
    "image.png": {
     "image/png": "[encoded data removed]"
    }
   },
   "cell_type": "markdown",
   "id": "ce1c7588-aa88-4383-9131-ed45b212594b",
   "metadata": {
    "tags": []
   },
   "source": [
    "![image.png](attachment:image.png)"
   ]
  },
  {
   "cell_type": "code",
   "execution_count": 10,
   "id": "b7055cd1-e099-45d1-98bc-476461abdf36",
   "metadata": {},
   "outputs": [
    {
     "name": "stdout",
     "output_type": "stream",
     "text": [
      "3\n",
      "3\n",
      "[4 5 6]\n",
      "[ 3  6  9 12]\n"
     ]
    }
   ],
   "source": [
    "a = np.array([[1, 2, 3],\n",
    "              [4, 5, 6], \n",
    "              [7, 8, 9],\n",
    "              [10, 11, 12]])\n",
    "print(a[0, 2])  # a[행, 열]  # 단일 값\n",
    "print(a[0][2])  # a[행][열]  # 단일 값\n",
    "\n",
    "print(a[1])    # a[행]     # 특정 행 전체\n",
    "print(a[:,2])  # a[:, 열]  # 특정 열 전체"
   ]
  },
  {
   "cell_type": "code",
   "execution_count": 11,
   "id": "38059828-d44c-4e4b-b87d-c8d09f995e08",
   "metadata": {},
   "outputs": [
    {
     "name": "stdout",
     "output_type": "stream",
     "text": [
      "[2]\n",
      "[2 5]\n",
      "[2 9]\n",
      "[[2 3]\n",
      " [5 6]]\n",
      "[[2]\n",
      " [5]]\n"
     ]
    }
   ],
   "source": [
    "print(a[[0], [1]])       # a[[행], [열]]\n",
    "print(a[[0 ,1], 1])      # a[[행들], 열] \n",
    "print(a[[0, 2], [1, 2]]) # a[[행들], [열들]]  ### 중요!!! # (0,1) (2,2)\n",
    "print(a[0:2, 1:])        # 슬라이싱\n",
    "print(a[0:2, 1:2])       # 슬라이싱"
   ]
  },
  {
   "cell_type": "markdown",
   "id": "b251c9a9-5fe4-463b-afc4-23dc4c6ebdeb",
   "metadata": {},
   "source": [
    "배열 조건 조회"
   ]
  },
  {
   "cell_type": "code",
   "execution_count": 12,
   "id": "512d6cc1-8a19-487f-a787-f0fc43fb3cd4",
   "metadata": {},
   "outputs": [
    {
     "name": "stdout",
     "output_type": "stream",
     "text": [
      "[[False  True False False  True False]\n",
      " [False False  True False  True False]]\n",
      "[91 93 96 91]\n",
      "[91 93 91]\n"
     ]
    }
   ],
   "source": [
    "score= np.array([[78, 91, 84, 89, 93, 65],\n",
    "                 [82, 87, 96, 79, 91, 73]])\n",
    "\n",
    "print(score >= 90)\n",
    "\n",
    "# 요소 중에서 90 이상인 것만 조회\n",
    "print(score[score >= 90])\n",
    "\n",
    "# 모든 요소 중에서 90 이상 95 미만인 것만 조회\n",
    "print(score[(score >= 90) & (score <= 95)])"
   ]
  },
  {
   "cell_type": "markdown",
   "id": "90ed30d8-31f5-4731-b230-a5d8cdea36e7",
   "metadata": {},
   "source": [
    "배열 연산"
   ]
  },
  {
   "attachments": {
    "image.png": {
     "image/png": "[encoded data removed]"
    }
   },
   "cell_type": "markdown",
   "id": "32eb597d",
   "metadata": {},
   "source": [
    "![image.png](attachment:image.png)"
   ]
  },
  {
   "cell_type": "code",
   "execution_count": 14,
   "id": "0709b33f-bc7a-4d36-b81b-a2360b6d62dc",
   "metadata": {},
   "outputs": [
    {
     "name": "stdout",
     "output_type": "stream",
     "text": [
      "[[ 6  8]\n",
      " [10 12]]\n",
      "[[ 6  8]\n",
      " [10 12]]\n",
      "[[-4 -4]\n",
      " [-4 -4]]\n",
      "[[-4 -4]\n",
      " [-4 -4]]\n",
      "[[ 5 12]\n",
      " [21 32]]\n",
      "[[ 5 12]\n",
      " [21 32]]\n",
      "[[0.2        0.33333333]\n",
      " [0.42857143 0.5       ]]\n",
      "[[0.2        0.33333333]\n",
      " [0.42857143 0.5       ]]\n",
      "[[    1    64]\n",
      " [ 2187 65536]]\n",
      "[[    1    64]\n",
      " [ 2187 65536]]\n",
      "[[1 1]\n",
      " [1 2]]\n"
     ]
    }
   ],
   "source": [
    "x = np.array([[1, 2], [3, 4]])\n",
    "y = np.array([[5, 6], [7, 8]])\n",
    "\n",
    "# 배열 더하기\n",
    "print(x + y)\n",
    "print(np.add(x, y))\n",
    "\n",
    "# 배열 빼기\n",
    "print(x - y)\n",
    "print(np.subtract(x, y))\n",
    "\n",
    "# 배열 곱하기\n",
    "print(x * y)\n",
    "print(np.multiply(x, y))\n",
    "\n",
    "# 배열 나누기\n",
    "print(x / y)\n",
    "print(np.divide(x, y))\n",
    "\n",
    "# 배열 y 제곱\n",
    "print(x ** y)\n",
    "print(np.power(x, y))\n",
    "\n",
    "# 배열 제곱근\n",
    "print(np.sqrt(x).astype(int))"
   ]
  }
 ],
 "metadata": {
  "kernelspec": {
   "display_name": "Python 3 (ipykernel)",
   "language": "python",
   "name": "python3"
  },
  "language_info": {
   "codemirror_mode": {
    "name": "ipython",
    "version": 3
   },
   "file_extension": ".py",
   "mimetype": "text/x-python",
   "name": "python",
   "nbconvert_exporter": "python",
   "pygments_lexer": "ipython3",
   "version": "3.12.3"
  },
  "toc-showmarkdowntxt": true
 },
 "nbformat": 4,
 "nbformat_minor": 5
}
